{
 "cells": [
  {
   "cell_type": "code",
   "execution_count": 1,
   "metadata": {},
   "outputs": [],
   "source": [
    "import pandas as pd\n",
    "import matplotlib.pyplot as plt\n",
    "import seaborn as sns\n",
    "from load_ghcn_tempdata import load_ghcn_data  # Import the function from your script"
   ]
  },
  {
   "cell_type": "code",
   "execution_count": 3,
   "metadata": {},
   "outputs": [
    {
     "name": "stdout",
     "output_type": "stream",
     "text": [
      "Loading the GHCN temperature data...\n",
      "ghcn_temperature_data.csv already exists locally. Skipping download.\n",
      "Data loaded successfully from ghcn_temperature_data.csv\n"
     ]
    }
   ],
   "source": [
    "gdrive_url = 'https://drive.google.com/uc?id=1rxtNzZReXNLbEjGmCzcgaEGPzz1KolNA'\n",
    "\n",
    "print(\"Loading the GHCN temperature data...\")\n",
    "df = load_ghcn_data(gdrive_url)"
   ]
  },
  {
   "cell_type": "code",
   "execution_count": 4,
   "metadata": {},
   "outputs": [
    {
     "data": {
      "text/html": [
       "<div>\n",
       "<style scoped>\n",
       "    .dataframe tbody tr th:only-of-type {\n",
       "        vertical-align: middle;\n",
       "    }\n",
       "\n",
       "    .dataframe tbody tr th {\n",
       "        vertical-align: top;\n",
       "    }\n",
       "\n",
       "    .dataframe thead th {\n",
       "        text-align: right;\n",
       "    }\n",
       "</style>\n",
       "<table border=\"1\" class=\"dataframe\">\n",
       "  <thead>\n",
       "    <tr style=\"text-align: right;\">\n",
       "      <th></th>\n",
       "      <th>ID</th>\n",
       "      <th>Year</th>\n",
       "      <th>Month</th>\n",
       "      <th>Element</th>\n",
       "      <th>Value1</th>\n",
       "      <th>Value2</th>\n",
       "      <th>Value3</th>\n",
       "      <th>Value4</th>\n",
       "      <th>Value5</th>\n",
       "      <th>Value6</th>\n",
       "      <th>Value7</th>\n",
       "      <th>Value8</th>\n",
       "    </tr>\n",
       "  </thead>\n",
       "  <tbody>\n",
       "    <tr>\n",
       "      <th>0</th>\n",
       "      <td>ACW00011604</td>\n",
       "      <td>1961</td>\n",
       "      <td>TAVG</td>\n",
       "      <td>-142</td>\n",
       "      <td>k  1</td>\n",
       "      <td>83  k</td>\n",
       "      <td>419</td>\n",
       "      <td>k  720</td>\n",
       "      <td>k 10</td>\n",
       "      <td>75  k</td>\n",
       "      <td>1546</td>\n",
       "      <td>k 1517</td>\n",
       "    </tr>\n",
       "    <tr>\n",
       "      <th>1</th>\n",
       "      <td>ACW00011604</td>\n",
       "      <td>1962</td>\n",
       "      <td>TAVG</td>\n",
       "      <td>60</td>\n",
       "      <td>k</td>\n",
       "      <td>32  k</td>\n",
       "      <td>-207</td>\n",
       "      <td>k  582</td>\n",
       "      <td>k  8</td>\n",
       "      <td>55  k</td>\n",
       "      <td>1328</td>\n",
       "      <td>k 1457</td>\n",
       "    </tr>\n",
       "    <tr>\n",
       "      <th>2</th>\n",
       "      <td>ACW00011604</td>\n",
       "      <td>1963</td>\n",
       "      <td>TAVG</td>\n",
       "      <td>-766</td>\n",
       "      <td>k -6</td>\n",
       "      <td>06  k</td>\n",
       "      <td>-152</td>\n",
       "      <td>k  488</td>\n",
       "      <td>k 11</td>\n",
       "      <td>71  k</td>\n",
       "      <td>1574</td>\n",
       "      <td>k 1567</td>\n",
       "    </tr>\n",
       "    <tr>\n",
       "      <th>3</th>\n",
       "      <td>ACW00011604</td>\n",
       "      <td>1964</td>\n",
       "      <td>TAVG</td>\n",
       "      <td>9</td>\n",
       "      <td>k -1</td>\n",
       "      <td>38  k</td>\n",
       "      <td>2</td>\n",
       "      <td>k  685</td>\n",
       "      <td>k 11</td>\n",
       "      <td>66  k</td>\n",
       "      <td>1389</td>\n",
       "      <td>k 1453</td>\n",
       "    </tr>\n",
       "    <tr>\n",
       "      <th>4</th>\n",
       "      <td>ACW00011604</td>\n",
       "      <td>1965</td>\n",
       "      <td>TAVG</td>\n",
       "      <td>-9</td>\n",
       "      <td>k -1</td>\n",
       "      <td>58  k</td>\n",
       "      <td>-15</td>\n",
       "      <td>k  537</td>\n",
       "      <td>k  9</td>\n",
       "      <td>34  k</td>\n",
       "      <td>1447</td>\n",
       "      <td>k 1434</td>\n",
       "    </tr>\n",
       "  </tbody>\n",
       "</table>\n",
       "</div>"
      ],
      "text/plain": [
       "            ID  Year Month  Element Value1 Value2 Value3  Value4 Value5  \\\n",
       "0  ACW00011604  1961  TAVG     -142   k  1  83  k    419  k  720   k 10   \n",
       "1  ACW00011604  1962  TAVG       60      k  32  k   -207  k  582   k  8   \n",
       "2  ACW00011604  1963  TAVG     -766   k -6  06  k   -152  k  488   k 11   \n",
       "3  ACW00011604  1964  TAVG        9   k -1  38  k      2  k  685   k 11   \n",
       "4  ACW00011604  1965  TAVG       -9   k -1  58  k    -15  k  537   k  9   \n",
       "\n",
       "  Value6 Value7  Value8  \n",
       "0  75  k   1546  k 1517  \n",
       "1  55  k   1328  k 1457  \n",
       "2  71  k   1574  k 1567  \n",
       "3  66  k   1389  k 1453  \n",
       "4  34  k   1447  k 1434  "
      ]
     },
     "execution_count": 4,
     "metadata": {},
     "output_type": "execute_result"
    }
   ],
   "source": [
    "df.head()"
   ]
  },
  {
   "cell_type": "code",
   "execution_count": 5,
   "metadata": {},
   "outputs": [
    {
     "name": "stdout",
     "output_type": "stream",
     "text": [
      "<class 'pandas.core.frame.DataFrame'>\n",
      "RangeIndex: 1471624 entries, 0 to 1471623\n",
      "Data columns (total 12 columns):\n",
      " #   Column   Non-Null Count    Dtype \n",
      "---  ------   --------------    ----- \n",
      " 0   ID       1471624 non-null  object\n",
      " 1   Year     1471624 non-null  int64 \n",
      " 2   Month    1471624 non-null  object\n",
      " 3   Element  1471624 non-null  int64 \n",
      " 4   Value1   1469889 non-null  object\n",
      " 5   Value2   1471624 non-null  object\n",
      " 6   Value3   1471624 non-null  object\n",
      " 7   Value4   1471624 non-null  object\n",
      " 8   Value5   1471528 non-null  object\n",
      " 9   Value6   1471624 non-null  object\n",
      " 10  Value7   1471624 non-null  object\n",
      " 11  Value8   1471624 non-null  object\n",
      "dtypes: int64(2), object(10)\n",
      "memory usage: 134.7+ MB\n"
     ]
    }
   ],
   "source": [
    "df.info()"
   ]
  },
  {
   "cell_type": "code",
   "execution_count": 6,
   "metadata": {},
   "outputs": [
    {
     "name": "stdout",
     "output_type": "stream",
     "text": [
      "ID            0\n",
      "Year          0\n",
      "Month         0\n",
      "Element       0\n",
      "Value1     1735\n",
      "Value2        0\n",
      "Value3        0\n",
      "Value4        0\n",
      "Value5       96\n",
      "Value6        0\n",
      "Value7        0\n",
      "Value8        0\n",
      "dtype: int64\n"
     ]
    }
   ],
   "source": [
    "# Checking for missing values\n",
    "missing_values = df.isnull().sum()\n",
    "print(missing_values)"
   ]
  },
  {
   "cell_type": "code",
   "execution_count": 7,
   "metadata": {},
   "outputs": [
    {
     "data": {
      "text/html": [
       "<div>\n",
       "<style scoped>\n",
       "    .dataframe tbody tr th:only-of-type {\n",
       "        vertical-align: middle;\n",
       "    }\n",
       "\n",
       "    .dataframe tbody tr th {\n",
       "        vertical-align: top;\n",
       "    }\n",
       "\n",
       "    .dataframe thead th {\n",
       "        text-align: right;\n",
       "    }\n",
       "</style>\n",
       "<table border=\"1\" class=\"dataframe\">\n",
       "  <thead>\n",
       "    <tr style=\"text-align: right;\">\n",
       "      <th></th>\n",
       "      <th>Year</th>\n",
       "      <th>Element</th>\n",
       "    </tr>\n",
       "  </thead>\n",
       "  <tbody>\n",
       "    <tr>\n",
       "      <th>count</th>\n",
       "      <td>1.471624e+06</td>\n",
       "      <td>1.471624e+06</td>\n",
       "    </tr>\n",
       "    <tr>\n",
       "      <th>mean</th>\n",
       "      <td>1.971236e+03</td>\n",
       "      <td>-7.020214e+02</td>\n",
       "    </tr>\n",
       "    <tr>\n",
       "      <th>std</th>\n",
       "      <td>3.673492e+01</td>\n",
       "      <td>3.043687e+03</td>\n",
       "    </tr>\n",
       "    <tr>\n",
       "      <th>min</th>\n",
       "      <td>1.701000e+03</td>\n",
       "      <td>-9.999000e+03</td>\n",
       "    </tr>\n",
       "    <tr>\n",
       "      <th>25%</th>\n",
       "      <td>1.950000e+03</td>\n",
       "      <td>-8.950000e+02</td>\n",
       "    </tr>\n",
       "    <tr>\n",
       "      <th>50%</th>\n",
       "      <td>1.977000e+03</td>\n",
       "      <td>-1.150000e+02</td>\n",
       "    </tr>\n",
       "    <tr>\n",
       "      <th>75%</th>\n",
       "      <td>2.000000e+03</td>\n",
       "      <td>7.010000e+02</td>\n",
       "    </tr>\n",
       "    <tr>\n",
       "      <th>max</th>\n",
       "      <td>2.024000e+03</td>\n",
       "      <td>7.600000e+03</td>\n",
       "    </tr>\n",
       "  </tbody>\n",
       "</table>\n",
       "</div>"
      ],
      "text/plain": [
       "               Year       Element\n",
       "count  1.471624e+06  1.471624e+06\n",
       "mean   1.971236e+03 -7.020214e+02\n",
       "std    3.673492e+01  3.043687e+03\n",
       "min    1.701000e+03 -9.999000e+03\n",
       "25%    1.950000e+03 -8.950000e+02\n",
       "50%    1.977000e+03 -1.150000e+02\n",
       "75%    2.000000e+03  7.010000e+02\n",
       "max    2.024000e+03  7.600000e+03"
      ]
     },
     "execution_count": 7,
     "metadata": {},
     "output_type": "execute_result"
    }
   ],
   "source": [
    "# Summary stats for the data \n",
    "df.describe()"
   ]
  },
  {
   "cell_type": "code",
   "execution_count": null,
   "metadata": {},
   "outputs": [],
   "source": []
  }
 ],
 "metadata": {
  "kernelspec": {
   "display_name": "base",
   "language": "python",
   "name": "python3"
  },
  "language_info": {
   "codemirror_mode": {
    "name": "ipython",
    "version": 3
   },
   "file_extension": ".py",
   "mimetype": "text/x-python",
   "name": "python",
   "nbconvert_exporter": "python",
   "pygments_lexer": "ipython3",
   "version": "3.11.5"
  }
 },
 "nbformat": 4,
 "nbformat_minor": 2
}
